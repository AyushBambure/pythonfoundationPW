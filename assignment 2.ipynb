{
 "cells": [
  {
   "cell_type": "markdown",
   "id": "f7364738-b3c3-40fc-bc29-a23ff4618ad3",
   "metadata": {},
   "source": [
    "Q1. How can we store a s1ngle quote (‘) as a str1ng in a var1able?"
   ]
  },
  {
   "cell_type": "code",
   "execution_count": 1,
   "id": "d074a811-d2f4-4d18-9b95-a6a2d2e9a0a1",
   "metadata": {},
   "outputs": [],
   "source": [
    "a=\"'\""
   ]
  },
  {
   "cell_type": "code",
   "execution_count": 2,
   "id": "a6219651-cd78-40a1-a823-82d1db272258",
   "metadata": {},
   "outputs": [
    {
     "data": {
      "text/plain": [
       "\"'\""
      ]
     },
     "execution_count": 2,
     "metadata": {},
     "output_type": "execute_result"
    }
   ],
   "source": [
    "a"
   ]
  },
  {
   "cell_type": "markdown",
   "id": "e5979ebc-209a-4a5b-bbd6-28215db23edc",
   "metadata": {},
   "source": [
    "Q2. Refer the below var1able:\n",
    "x = 'a'\n",
    "Here, x is a character type or str1ng type var1able? Support your answer with an explanation."
   ]
  },
  {
   "cell_type": "markdown",
   "id": "4dc7dc01-44ca-479e-9393-570146b0513e",
   "metadata": {},
   "source": [
    "ANS : In python we write the string in single or double quote .here x is a string type variable which store the value a of str type ."
   ]
  },
  {
   "cell_type": "code",
   "execution_count": null,
   "id": "9b9ce6c2-f76d-4914-b2f9-8c4f11325ede",
   "metadata": {},
   "outputs": [],
   "source": []
  },
  {
   "cell_type": "markdown",
   "id": "f5855793-750d-4599-8421-eae8d0235be8",
   "metadata": {},
   "source": [
    "Q3. Apply the follow1ng funct1ons on th1s var1able: ‘Welcome to Python foundation course'\n",
    "1. find ()\n",
    "2. count()\n",
    "3. len()\n",
    "4. Concatena()"
   ]
  },
  {
   "cell_type": "code",
   "execution_count": 3,
   "id": "39ae9d5d-4c5e-4c2d-a4e2-4e79640418f7",
   "metadata": {},
   "outputs": [],
   "source": [
    "a=\"Welcome to Python Foundation Course\""
   ]
  },
  {
   "cell_type": "code",
   "execution_count": 11,
   "id": "0a902749-0e78-4dfe-a7a6-8a055b6a8c3e",
   "metadata": {},
   "outputs": [
    {
     "data": {
      "text/plain": [
       "11"
      ]
     },
     "execution_count": 11,
     "metadata": {},
     "output_type": "execute_result"
    }
   ],
   "source": [
    "a.find('P')"
   ]
  },
  {
   "cell_type": "code",
   "execution_count": 12,
   "id": "13e8ede1-9b55-41ba-88f6-376878ac0993",
   "metadata": {},
   "outputs": [
    {
     "data": {
      "text/plain": [
       "6"
      ]
     },
     "execution_count": 12,
     "metadata": {},
     "output_type": "execute_result"
    }
   ],
   "source": [
    "a.count('o')"
   ]
  },
  {
   "cell_type": "code",
   "execution_count": 16,
   "id": "bc81e884-8313-4429-83d6-4491abeaaceb",
   "metadata": {},
   "outputs": [
    {
     "data": {
      "text/plain": [
       "35"
      ]
     },
     "execution_count": 16,
     "metadata": {},
     "output_type": "execute_result"
    }
   ],
   "source": [
    "len(a)"
   ]
  },
  {
   "cell_type": "code",
   "execution_count": 29,
   "id": "d0122ecb-80e2-490e-bb66-7dc2549916aa",
   "metadata": {},
   "outputs": [],
   "source": [
    "b=\"- Pay fees now \""
   ]
  },
  {
   "cell_type": "code",
   "execution_count": 30,
   "id": "5defdc20-49b4-41e6-8a8d-73538feb1b3b",
   "metadata": {},
   "outputs": [],
   "source": [
    "concatenation= a+b"
   ]
  },
  {
   "cell_type": "code",
   "execution_count": 31,
   "id": "e2f7c0a6-2d8f-46a3-bf33-7c176d2f3340",
   "metadata": {},
   "outputs": [
    {
     "name": "stdout",
     "output_type": "stream",
     "text": [
      "Welcome to Python Foundation Course- Pay fees now \n"
     ]
    }
   ],
   "source": [
    "print (concatenation)"
   ]
  },
  {
   "cell_type": "markdown",
   "id": "8c23f30f-dba5-475a-af54-766167fda418",
   "metadata": {},
   "source": [
    "Q4.For the var1able: word = 'PanaJi@12256'\n",
    "Calculate the follow1ng:\n",
    "(a) Total number of alphabets in lowercase\n",
    "(b) Total number of alphabets in uppercase\n",
    "(c) Total number of numerical in string"
   ]
  },
  {
   "cell_type": "code",
   "execution_count": 1,
   "id": "c6660ff5-861c-460c-b199-475bdec87161",
   "metadata": {},
   "outputs": [],
   "source": [
    "word='PanaJi@12256'"
   ]
  },
  {
   "cell_type": "code",
   "execution_count": 2,
   "id": "9fe89fcc-1927-45de-a955-c07347e07e07",
   "metadata": {},
   "outputs": [
    {
     "name": "stdout",
     "output_type": "stream",
     "text": [
      "total no. of alphabet in lowercase: 4\n"
     ]
    }
   ],
   "source": [
    "lowercase_count = sum(1 for char in word if char.islower())\n",
    "print(\"total no. of alphabet in lowercase:\",lowercase_count)"
   ]
  },
  {
   "cell_type": "code",
   "execution_count": 3,
   "id": "7bf7a3aa-e089-43cd-a1eb-b72c7267421b",
   "metadata": {},
   "outputs": [
    {
     "name": "stdout",
     "output_type": "stream",
     "text": [
      "total no. of alphabet in uppercase: 2\n"
     ]
    }
   ],
   "source": [
    "uppercase_count = sum(1 for char in word if char.isupper())\n",
    "print(\"total no. of alphabet in uppercase:\",uppercase_count)"
   ]
  },
  {
   "cell_type": "code",
   "execution_count": 7,
   "id": "49869e1d-9e7e-4737-ac06-9cd0a746b3ae",
   "metadata": {},
   "outputs": [
    {
     "name": "stdout",
     "output_type": "stream",
     "text": [
      "total no. of numerical in string:  5\n"
     ]
    }
   ],
   "source": [
    "number_count = sum(1 for num in word if num.isnumeric())\n",
    "print(\"total no. of numerical in string: \",number_count)"
   ]
  },
  {
   "cell_type": "markdown",
   "id": "c6f8e820-90d3-4591-980b-c3c8c35c3d4b",
   "metadata": {},
   "source": [
    "Q.5 Write a code to store a numerical value inside a variable then convert it into string?"
   ]
  },
  {
   "cell_type": "code",
   "execution_count": 8,
   "id": "0fd5c6dc-7240-4486-835e-53f25dfbc49d",
   "metadata": {},
   "outputs": [],
   "source": [
    "num=10"
   ]
  },
  {
   "cell_type": "code",
   "execution_count": 9,
   "id": "30c9276f-503e-4e35-a505-78ce2877bee0",
   "metadata": {},
   "outputs": [],
   "source": [
    "numstr=str(num)"
   ]
  },
  {
   "cell_type": "code",
   "execution_count": 10,
   "id": "30b5c72f-37a8-4821-b569-9e24e6ca10d8",
   "metadata": {},
   "outputs": [
    {
     "name": "stdout",
     "output_type": "stream",
     "text": [
      "original num : 10\n",
      "converted into str : 10\n"
     ]
    }
   ],
   "source": [
    "print(\"original num :\",num)\n",
    "print(\"converted into str :\",numstr)"
   ]
  },
  {
   "cell_type": "code",
   "execution_count": null,
   "id": "1d2dd217-41d1-400b-b1a2-cb8c99cb57e5",
   "metadata": {},
   "outputs": [],
   "source": []
  }
 ],
 "metadata": {
  "kernelspec": {
   "display_name": "Python 3 (ipykernel)",
   "language": "python",
   "name": "python3"
  },
  "language_info": {
   "codemirror_mode": {
    "name": "ipython",
    "version": 3
   },
   "file_extension": ".py",
   "mimetype": "text/x-python",
   "name": "python",
   "nbconvert_exporter": "python",
   "pygments_lexer": "ipython3",
   "version": "3.10.8"
  }
 },
 "nbformat": 4,
 "nbformat_minor": 5
}
