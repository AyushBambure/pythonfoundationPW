{
 "cells": [
  {
   "cell_type": "markdown",
   "id": "6589196f-efeb-489e-a5fd-f677ffb46b54",
   "metadata": {},
   "source": [
    "Q1. Write all the conventions being followed while declaring a variable.\n",
    "\n",
    "\n",
    "ans : In Python, when declaring variables:\n",
    "\n",
    "1. Use lowercase letters and separate words with underscores (snake_case).\n",
    "2. Choose descriptive names.\n",
    "3. Avoid reserved words and special characters.\n",
    "4. Constants should be in uppercase.\n",
    "5. Avoid single-character names.\n",
    "6. Use meaningful variable names."
   ]
  },
  {
   "cell_type": "markdown",
   "id": "6074782d-f486-43c2-87c5-50adbfcbe5cc",
   "metadata": {},
   "source": [
    "Q2. What will happen if we declare a restricted keyword as a variable?\n",
    "\n",
    "\n",
    "ans :ww will encounter an syntax error"
   ]
  },
  {
   "cell_type": "markdown",
   "id": "343027e4-7d80-46ed-8c4f-35032e272843",
   "metadata": {},
   "source": [
    "Q3. Can we actually declare a string as a variable name?\n",
    "\n",
    "ans : yes we can declare string as variable name using dictionary "
   ]
  },
  {
   "cell_type": "markdown",
   "id": "0bc913fd-aec2-4224-beb4-ff74467c157f",
   "metadata": {},
   "source": [
    "Q4. Is it possible for us to declare “_” as a variable? If so, then write an example of it.\n",
    "\n",
    "ans : Yes, we can declare a variable with the name _  in Python"
   ]
  },
  {
   "cell_type": "code",
   "execution_count": 1,
   "id": "eca5ce74-ac89-4d17-9ce9-8c32ca498fd1",
   "metadata": {},
   "outputs": [
    {
     "name": "stdout",
     "output_type": "stream",
     "text": [
      "10\n"
     ]
    }
   ],
   "source": [
    "_=10\n",
    "print(_)"
   ]
  },
  {
   "cell_type": "markdown",
   "id": "fea24511-c225-4313-a09c-126a8d0ed164",
   "metadata": {},
   "source": [
    "Q5. Using an example, explain how the variables in python are dynamic in nature.\n"
   ]
  },
  {
   "cell_type": "code",
   "execution_count": 2,
   "id": "9e9cb986-d3f3-46f0-b637-313d1a43f0ad",
   "metadata": {},
   "outputs": [
    {
     "data": {
      "text/plain": [
       "int"
      ]
     },
     "execution_count": 2,
     "metadata": {},
     "output_type": "execute_result"
    }
   ],
   "source": [
    "x=1222\n",
    "type(x)"
   ]
  },
  {
   "cell_type": "code",
   "execution_count": 3,
   "id": "de44056c-d389-46fc-9ffa-2f976ea29822",
   "metadata": {},
   "outputs": [
    {
     "data": {
      "text/plain": [
       "str"
      ]
     },
     "execution_count": 3,
     "metadata": {},
     "output_type": "execute_result"
    }
   ],
   "source": [
    "x=\"ayush\"\n",
    "type(x)"
   ]
  },
  {
   "cell_type": "code",
   "execution_count": 4,
   "id": "11c69dba-7d64-41a0-bf08-dd79ed483a45",
   "metadata": {},
   "outputs": [
    {
     "data": {
      "text/plain": [
       "float"
      ]
     },
     "execution_count": 4,
     "metadata": {},
     "output_type": "execute_result"
    }
   ],
   "source": [
    "x=2.3\n",
    "type(x)"
   ]
  },
  {
   "cell_type": "code",
   "execution_count": 5,
   "id": "062a02ac-344f-4dda-b1ea-9afe1b84cae2",
   "metadata": {},
   "outputs": [
    {
     "data": {
      "text/plain": [
       "bool"
      ]
     },
     "execution_count": 5,
     "metadata": {},
     "output_type": "execute_result"
    }
   ],
   "source": [
    "x=True\n",
    "type(x)"
   ]
  },
  {
   "cell_type": "code",
   "execution_count": 6,
   "id": "e2e8c0b3-9d92-4382-b50d-eda9a9ba1de3",
   "metadata": {},
   "outputs": [
    {
     "name": "stdout",
     "output_type": "stream",
     "text": [
      "True\n"
     ]
    }
   ],
   "source": [
    "print(x)"
   ]
  },
  {
   "cell_type": "code",
   "execution_count": null,
   "id": "2583ad8f-1e69-4dcd-9e8c-10b6b77455b1",
   "metadata": {},
   "outputs": [],
   "source": []
  }
 ],
 "metadata": {
  "kernelspec": {
   "display_name": "Python 3 (ipykernel)",
   "language": "python",
   "name": "python3"
  },
  "language_info": {
   "codemirror_mode": {
    "name": "ipython",
    "version": 3
   },
   "file_extension": ".py",
   "mimetype": "text/x-python",
   "name": "python",
   "nbconvert_exporter": "python",
   "pygments_lexer": "ipython3",
   "version": "3.10.8"
  }
 },
 "nbformat": 4,
 "nbformat_minor": 5
}
